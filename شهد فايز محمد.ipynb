{
  "nbformat": 4,
  "nbformat_minor": 0,
  "metadata": {
    "colab": {
      "provenance": []
    },
    "kernelspec": {
      "name": "python3",
      "display_name": "Python 3"
    },
    "language_info": {
      "name": "python"
    },
    "accelerator": "GPU"
  },
  "cells": [
    {
      "cell_type": "markdown",
      "source": [
        "# 00. PyTorch Fundamentals Exercises\n",
        "\n",
        "### 1. Documentation reading\n",
        "\n",
        "A big part of deep learning (and learning to code in general) is getting familiar with the documentation of a certain framework you're using. We'll be using the PyTorch documentation a lot throughout the rest of this course. So I'd recommend spending 10-minutes reading the following (it's okay if you don't get some things for now, the focus is not yet full understanding, it's awareness):\n",
        "  * The documentation on [`torch.Tensor`](https://pytorch.org/docs/stable/tensors.html#torch-tensor).\n",
        "  * The documentation on [`torch.cuda`](https://pytorch.org/docs/master/notes/cuda.html#cuda-semantics).\n",
        "\n"
      ],
      "metadata": {
        "id": "AzDBM_v4iMe7"
      }
    },
    {
      "cell_type": "code",
      "source": [
        "# No code solution (reading)"
      ],
      "metadata": {
        "id": "bGD0oD8Kizak"
      },
      "execution_count": 32,
      "outputs": []
    },
    {
      "cell_type": "markdown",
      "source": [
        "### 2. Create a random tensor with shape `(7, 7)`.\n"
      ],
      "metadata": {
        "id": "__iXqqz-ioUJ"
      }
    },
    {
      "cell_type": "code",
      "source": [
        "# Import torch\n",
        "import torch\n",
        "\n",
        "# Create random tensor\n",
        "random_tensor_one = torch.rand(7,7)\n",
        "print(random_tensor_one)\n",
        "print(random_tensor_one.shape)\n",
        "############\n",
        "random_tensor_two = torch.rand(size=(7,7))\n",
        "print(random_tensor_two)\n",
        "print(random_tensor_two.shape)"
      ],
      "metadata": {
        "id": "6pUq9Dc8i2L7",
        "colab": {
          "base_uri": "https://localhost:8080/"
        },
        "outputId": "a3c5035b-6cbe-46d5-ed18-00f8cf61dc11"
      },
      "execution_count": 33,
      "outputs": [
        {
          "output_type": "stream",
          "name": "stdout",
          "text": [
            "tensor([[0.8259, 0.2218, 0.6009, 0.3572, 0.0663, 0.1744, 0.7042],\n",
            "        [0.6979, 0.1908, 0.3441, 0.0326, 0.7688, 0.9323, 0.6635],\n",
            "        [0.1906, 0.7637, 0.9149, 0.3977, 0.4180, 0.6731, 0.5643],\n",
            "        [0.3347, 0.0358, 0.1494, 0.5271, 0.4732, 0.9129, 0.5171],\n",
            "        [0.3713, 0.0115, 0.0403, 0.7077, 0.9454, 0.4924, 0.0531],\n",
            "        [0.6775, 0.9072, 0.1691, 0.3684, 0.5421, 0.2149, 0.0364],\n",
            "        [0.7189, 0.0897, 0.3745, 0.2345, 0.8760, 0.5965, 0.7319]])\n",
            "torch.Size([7, 7])\n",
            "tensor([[0.1614, 0.9214, 0.5446, 0.2227, 0.4673, 0.1460, 0.4769],\n",
            "        [0.7792, 0.2752, 0.9226, 0.6527, 0.4125, 0.6562, 0.4079],\n",
            "        [0.3838, 0.1720, 0.7913, 0.8001, 0.6712, 0.7957, 0.9995],\n",
            "        [0.9708, 0.0175, 0.6140, 0.4572, 0.6698, 0.4030, 0.6396],\n",
            "        [0.0400, 0.7285, 0.9804, 0.4101, 0.1023, 0.0844, 0.4041],\n",
            "        [0.4924, 0.5558, 0.5627, 0.8766, 0.4093, 0.6427, 0.2343],\n",
            "        [0.9918, 0.6919, 0.4307, 0.8287, 0.6770, 0.5857, 0.3524]])\n",
            "torch.Size([7, 7])\n"
          ]
        }
      ]
    },
    {
      "cell_type": "markdown",
      "source": [
        "### 3. Perform a matrix multiplication on the tensor from 2 with another random tensor with shape `(1, 7)` (hint: you may have to transpose the second tensor)."
      ],
      "metadata": {
        "id": "9-XxvRLfiqkR"
      }
    },
    {
      "cell_type": "code",
      "source": [
        "# Create another random tensor\n",
        "randomTensor = torch.rand(1,7)\n",
        "resultOne = torch.matmul(random_tensor_one, randomTensor.T)\n",
        "resultTwo  = torch.mm(random_tensor_one, randomTensor.T)\n",
        "resultThree = random_tensor_one @ randomTensor.T\n",
        "###########\n",
        "randomTensorTwo = torch.rand(1,7).T\n",
        "resultFour = torch.matmul(random_tensor_one, randomTensorTwo)\n",
        "# Perform matrix multiplication\n",
        "print(resultOne)\n",
        "print(resultTwo)\n",
        "print(resultThree)\n",
        "print(resultFour)"
      ],
      "metadata": {
        "id": "NcLqR0Sbi_vT",
        "colab": {
          "base_uri": "https://localhost:8080/"
        },
        "outputId": "79472fec-99a8-4277-8291-9ade43f3feab"
      },
      "execution_count": 34,
      "outputs": [
        {
          "output_type": "stream",
          "name": "stdout",
          "text": [
            "tensor([[1.3808],\n",
            "        [1.6325],\n",
            "        [1.6328],\n",
            "        [1.2851],\n",
            "        [1.2900],\n",
            "        [1.4848],\n",
            "        [1.7360]])\n",
            "tensor([[1.3808],\n",
            "        [1.6325],\n",
            "        [1.6328],\n",
            "        [1.2851],\n",
            "        [1.2900],\n",
            "        [1.4848],\n",
            "        [1.7360]])\n",
            "tensor([[1.3808],\n",
            "        [1.6325],\n",
            "        [1.6328],\n",
            "        [1.2851],\n",
            "        [1.2900],\n",
            "        [1.4848],\n",
            "        [1.7360]])\n",
            "tensor([[1.3055],\n",
            "        [2.1796],\n",
            "        [1.6908],\n",
            "        [1.7198],\n",
            "        [1.2356],\n",
            "        [0.9161],\n",
            "        [2.0657]])\n"
          ]
        }
      ]
    },
    {
      "cell_type": "markdown",
      "source": [
        "### 4. Set the random seed to `0` and do 2 & 3 over again.\n",
        "\n",
        "The output should be:\n",
        "```\n",
        "(tensor([[1.8542],\n",
        "         [1.9611],\n",
        "         [2.2884],\n",
        "         [3.0481],\n",
        "         [1.7067],\n",
        "         [2.5290],\n",
        "         [1.7989]]), torch.Size([7, 1]))\n",
        "```"
      ],
      "metadata": {
        "id": "eiutdKUFiryU"
      }
    },
    {
      "cell_type": "code",
      "source": [
        "# Set manual seed\n",
        "import random\n",
        "random_seed = 0\n",
        "torch.manual_seed(random_seed)\n",
        "# Create two random tensors\n",
        "ran1Tensor = torch.rand(7,7)\n",
        "ran2Tensor = torch.rand(1,7).T\n",
        "# Matrix multiply tensors\n",
        "result = torch.mm(ran1Tensor, ran2Tensor)\n",
        "print(f'{result}, {result.shape}')"
      ],
      "metadata": {
        "id": "D-lOWI_1jRMm",
        "colab": {
          "base_uri": "https://localhost:8080/"
        },
        "outputId": "b92cc44b-5760-4d0b-d7eb-27540f43002a"
      },
      "execution_count": 35,
      "outputs": [
        {
          "output_type": "stream",
          "name": "stdout",
          "text": [
            "tensor([[1.8542],\n",
            "        [1.9611],\n",
            "        [2.2884],\n",
            "        [3.0481],\n",
            "        [1.7067],\n",
            "        [2.5290],\n",
            "        [1.7989]]), torch.Size([7, 1])\n"
          ]
        }
      ]
    },
    {
      "cell_type": "markdown",
      "source": [
        "### 5. Speaking of random seeds, we saw how to set it with `torch.manual_seed()` but is there a GPU equivalent? (hint: you'll need to look into the documentation for `torch.cuda` for this one)\n",
        "  * If there is, set the GPU random seed to `1234`."
      ],
      "metadata": {
        "id": "ezY6ks9Cis37"
      }
    },
    {
      "cell_type": "code",
      "source": [
        "# Set random seed on the GPU\n",
        "torch.cuda.manual_seed(1234)"
      ],
      "metadata": {
        "id": "_LKWcfSTjp00"
      },
      "execution_count": 36,
      "outputs": []
    },
    {
      "cell_type": "markdown",
      "source": [
        "\n",
        "### 6. Create two random tensors of shape `(2, 3)` and send them both to the GPU (you'll need access to a GPU for this). Set `torch.manual_seed(1234)` when creating the tensors (this doesn't have to be the GPU random seed). The output should be something like:\n",
        "\n",
        "```\n",
        "Device: cuda\n",
        "(tensor([[0.0290, 0.4019, 0.2598],\n",
        "         [0.3666, 0.0583, 0.7006]], device='cuda:0'),\n",
        " tensor([[0.0518, 0.4681, 0.6738],\n",
        "         [0.3315, 0.7837, 0.5631]], device='cuda:0'))\n",
        "```"
      ],
      "metadata": {
        "id": "Ir9qSaj6it4n"
      }
    },
    {
      "cell_type": "code",
      "source": [
        "# Set random seed\n",
        "randseed = torch.manual_seed(1234)\n",
        "\n",
        "# Check for access to GPU\n",
        "device = \"cuda\" if torch.cuda.is_available() else \"cpu\"\n",
        "print(f'Device: {device}')\n",
        "# Create two random tensors on GPU\n",
        "randOne = torch.rand(2,3)\n",
        "randTwo = torch.rand(2,3)\n",
        "randOne_gpu = randOne.to(device)\n",
        "randTwo_gpu = randTwo.to(device)\n",
        "print(randOne_gpu)\n",
        "print(randTwo_gpu)\n"
      ],
      "metadata": {
        "id": "azXExiFZj5nm",
        "colab": {
          "base_uri": "https://localhost:8080/"
        },
        "outputId": "1389f132-ea88-4161-b908-17f67f1b8a16"
      },
      "execution_count": 37,
      "outputs": [
        {
          "output_type": "stream",
          "name": "stdout",
          "text": [
            "Device: cuda\n",
            "tensor([[0.0290, 0.4019, 0.2598],\n",
            "        [0.3666, 0.0583, 0.7006]], device='cuda:0')\n",
            "tensor([[0.0518, 0.4681, 0.6738],\n",
            "        [0.3315, 0.7837, 0.5631]], device='cuda:0')\n"
          ]
        }
      ]
    },
    {
      "cell_type": "markdown",
      "source": [
        "\n",
        "### 7. Perform a matrix multiplication on the tensors you created in 6 (again, you may have to adjust the shapes of one of the tensors).\n",
        "\n",
        "The output should look like:\n",
        "```\n",
        "(tensor([[0.3647, 0.4709],\n",
        "         [0.5184, 0.5617]], device='cuda:0'), torch.Size([2, 2]))\n",
        "```"
      ],
      "metadata": {
        "id": "5TlAxeiSiu1y"
      }
    },
    {
      "cell_type": "code",
      "source": [
        "# Perform matmul on tensor_A and tensor_B\n",
        "mat_mul= torch.matmul(randOne_gpu, randTwo_gpu.T)\n",
        "print(f'{mat_mul}, {mat_mul.shape}')\n"
      ],
      "metadata": {
        "id": "fAeG7ox0lHEO",
        "colab": {
          "base_uri": "https://localhost:8080/"
        },
        "outputId": "ca77c50c-f4f2-463b-b789-7b00223e4bfe"
      },
      "execution_count": 38,
      "outputs": [
        {
          "output_type": "stream",
          "name": "stdout",
          "text": [
            "tensor([[0.3647, 0.4709],\n",
            "        [0.5184, 0.5617]], device='cuda:0'), torch.Size([2, 2])\n"
          ]
        }
      ]
    },
    {
      "cell_type": "markdown",
      "source": [
        "### 8. Find the maximum and minimum values of the output of 7."
      ],
      "metadata": {
        "id": "G7qfa5CSivwg"
      }
    },
    {
      "cell_type": "code",
      "source": [
        "# Find max\n",
        "maximum_value = mat_mul.max()\n",
        "print(f'Maximum value is: {maximum_value}')\n",
        "max_val = torch.max(mat_mul)\n",
        "print(f'Max: {max_val}')\n",
        "# Find min\n",
        "minimum_value = mat_mul.min()\n",
        "print(f'Minimum value is:{minimum_value}')\n",
        "min_val = torch.min(mat_mul)\n",
        "print(f'Min: {min_val}')"
      ],
      "metadata": {
        "id": "Fu8_3mZpllOd",
        "colab": {
          "base_uri": "https://localhost:8080/"
        },
        "outputId": "0692c3fd-fad1-433d-8b39-61dcdb3f53f4"
      },
      "execution_count": 39,
      "outputs": [
        {
          "output_type": "stream",
          "name": "stdout",
          "text": [
            "Maximum value is: 0.5617256760597229\n",
            "Max: 0.5617256760597229\n",
            "Minimum value is:0.3647301495075226\n",
            "Min: 0.3647301495075226\n"
          ]
        }
      ]
    },
    {
      "cell_type": "markdown",
      "source": [
        "### 9. Find the maximum and minimum index values of the output of 7."
      ],
      "metadata": {
        "id": "wrTj5FgNiw47"
      }
    },
    {
      "cell_type": "code",
      "source": [
        "# Find arg max\n",
        "print(f'Max index: {mat_mul.argmax()}')\n",
        "# Find arg min\n",
        "print(f'Min index: {mat_mul.argmin()}')"
      ],
      "metadata": {
        "id": "CCEKt4K2lsfQ",
        "colab": {
          "base_uri": "https://localhost:8080/"
        },
        "outputId": "a4a9e462-2aeb-4f18-ece5-989f9a13102e"
      },
      "execution_count": 40,
      "outputs": [
        {
          "output_type": "stream",
          "name": "stdout",
          "text": [
            "Max index: 3\n",
            "Min index: 0\n"
          ]
        }
      ]
    },
    {
      "cell_type": "markdown",
      "source": [
        "\n",
        "### 10. Make a random tensor with shape `(1, 1, 1, 10)` and then create a new tensor with all the `1` dimensions removed to be left with a tensor of shape `(10)`. Set the seed to `7` when you create it and print out the first tensor and it's shape as well as the second tensor and it's shape.\n",
        "\n",
        "The output should look like:\n",
        "\n",
        "```\n",
        "tensor([[[[0.5349, 0.1988, 0.6592, 0.6569, 0.2328, 0.4251, 0.2071, 0.6297,\n",
        "           0.3653, 0.8513]]]]) torch.Size([1, 1, 1, 10])\n",
        "tensor([0.5349, 0.1988, 0.6592, 0.6569, 0.2328, 0.4251, 0.2071, 0.6297, 0.3653,\n",
        "        0.8513]) torch.Size([10])\n",
        "```"
      ],
      "metadata": {
        "id": "hmeybz4uixy7"
      }
    },
    {
      "cell_type": "code",
      "source": [
        "# Set seed\n",
        "ran_seed = torch.manual_seed(7)\n",
        "\n",
        "# Create random tensor\n",
        "final_tensor = torch.rand(1, 1, 1, 10)\n",
        "\n",
        "# Remove single dimensions\n",
        "newShapedTensor = final_tensor.squeeze()\n",
        "\n",
        "# Print out tensors and their shapes\n",
        "print(final_tensor, final_tensor.shape)\n",
        "print(newShapedTensor, newShapedTensor.shape)"
      ],
      "metadata": {
        "id": "TQ9zbRzVl1jV",
        "colab": {
          "base_uri": "https://localhost:8080/"
        },
        "outputId": "97ac130f-7e65-468d-b08b-f3bf57f7d988"
      },
      "execution_count": 41,
      "outputs": [
        {
          "output_type": "stream",
          "name": "stdout",
          "text": [
            "tensor([[[[0.5349, 0.1988, 0.6592, 0.6569, 0.2328, 0.4251, 0.2071, 0.6297,\n",
            "           0.3653, 0.8513]]]]) torch.Size([1, 1, 1, 10])\n",
            "tensor([0.5349, 0.1988, 0.6592, 0.6569, 0.2328, 0.4251, 0.2071, 0.6297, 0.3653,\n",
            "        0.8513]) torch.Size([10])\n"
          ]
        }
      ]
    }
  ]
}